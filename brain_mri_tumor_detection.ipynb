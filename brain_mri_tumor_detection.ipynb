{
 "cells": [
  {
   "cell_type": "markdown",
   "metadata": {},
   "source": [
    "# Brain MRI Tumor Detection using Lightweight CNNs\\n\\nThis notebook implements three lightweight Convolutional Neural Networks (CNNs) for brain tumor detection using MRI images. We'll compare their performance and visualize the results.\\n\\n## Dataset\\n- **Location**: Update `DATA_PATH` variable to your dataset location\\n- **Classes**: \\n  - `yes` - Brain tumor present\\n  - `no` - No brain tumor\\n\\n## Models\\n1. **Custom Lightweight CNN** - Basic CNN with minimal parameters\\n2. **MobileNetV2-based** - Using depthwise separable convolutions\\n3. **EfficientNet-based** - Compound scaling lightweight model"
   ]
  },
  {
   "cell_type": "markdown",
   "metadata": {},
   "source": [
    "## 1. Import Required Libraries"
   ]
  },
  {
   "cell_type": "code",
   "execution_count": null,
   "metadata": {},
   "outputs": [],
   "source": [
    "# Core libraries\\nimport os\\nimport numpy as np\\nimport pandas as pd\\nimport matplotlib.pyplot as plt\\nimport seaborn as sns\\nfrom pathlib import Path\\nimport warnings\\nwarnings.filterwarnings('ignore')\\n\\n# Deep Learning libraries\\nimport tensorflow as tf\\nfrom tensorflow import keras\\nfrom tensorflow.keras import layers\\nfrom tensorflow.keras.applications import MobileNetV2, EfficientNetB0\\nfrom tensorflow.keras.preprocessing.image import ImageDataGenerator, load_img, img_to_array\\nfrom tensorflow.keras.utils import to_categorical\\nfrom tensorflow.keras.callbacks import EarlyStopping, ReduceLROnPlateau\\n\\n# Image processing\\nimport cv2\\nfrom PIL import Image\\n\\n# Machine Learning metrics\\nfrom sklearn.model_selection import train_test_split\\nfrom sklearn.metrics import classification_report, confusion_matrix, accuracy_score\\nfrom sklearn.metrics import precision_score, recall_score, f1_score\\n\\n# Set random seeds for reproducibility\\nnp.random.seed(42)\\ntf.random.set_seed(42)\\n\\nprint(\\"TensorFlow version:\\", tf.__version__)\\nprint(\\"GPU Available:\\", tf.config.list_physical_devices('GPU'))\\n\\n# Set up matplotlib\\nplt.style.use('default')\\nplt.rcParams['figure.figsize'] = (12, 8)\\nsns.set_palette(\\"husl\\")"
   ]
  },
  {
   "cell_type": "markdown",
   "metadata": {},
   "source": [
    "## 2. Load and Explore Brain MRI Dataset"
   ]
  },
  {
   "cell_type": "code",
   "execution_count": null,
   "metadata": {},
   "outputs": [],
   "source": [
    "# Define dataset path - Update this to your local dataset path\\nDATA_PATH = \\"brain_mri_data\\"  # Change this to your dataset location\\nIMAGE_SIZE = (224, 224)\\nBATCH_SIZE = 32\\n\\n# Check if dataset exists\\nif os.path.exists(DATA_PATH):\\n    print(f\\"Dataset found at: {DATA_PATH}\\")\\nelse:\\n    print(f\\"Dataset not found at: {DATA_PATH}\\")\\n\\n# Explore dataset structure\\ndef explore_dataset(data_path):\\n    \\\"\\\"\\\"Explore the dataset structure and count images in each class\\\"\\\"\\\"\\n    dataset_info = {}\\n    \\n    for class_name in os.listdir(data_path):\\n        class_path = os.path.join(data_path, class_name)\\n        if os.path.isdir(class_path):\\n            # Count images in this class\\n            image_count = len([f for f in os.listdir(class_path) \\n                             if f.lower().endswith(('.jpg', '.jpeg', '.png'))])\\n            dataset_info[class_name] = image_count\\n            \\n            print(f\\"Class '{class_name}': {image_count} images\\")\\n            \\n            # Show some sample filenames\\n            sample_files = os.listdir(class_path)[:5]\\n            print(f\\"  Sample files: {sample_files}\\")\\n            print()\\n    \\n    return dataset_info\\n\\n# Explore the dataset\\ndataset_info = explore_dataset(DATA_PATH)\\n\\n# Create a summary DataFrame\\ndf_summary = pd.DataFrame(list(dataset_info.items()), \\n                         columns=['Class', 'Image_Count'])\\nprint(\\"Dataset Summary:\\")\\nprint(df_summary)\\nprint(f\\"\\\\nTotal images: {df_summary['Image_Count'].sum()}\\")\\n\\n# Calculate class distribution\\ndf_summary['Percentage'] = (df_summary['Image_Count'] / \\n                           df_summary['Image_Count'].sum()) * 100\\nprint(f\\"\\\\nClass Distribution:\\")\\nprint(df_summary)"
   ]
  }
 ],
 "metadata": {
  "kernelspec": {
   "display_name": "Python 3",
   "language": "python",
   "name": "python3"
  },
  "language_info": {
   "codemirror_mode": {
    "name": "ipython",
    "version": 3
   },
   "file_extension": ".py",
   "mimetype": "text/x-python",
   "name": "python",
   "nbconvert_exporter": "python",
   "pygments_lexer": "ipython3",
   "version": "3.8.5"
  }
 },
 "nbformat": 4,
 "nbformat_minor": 4
}